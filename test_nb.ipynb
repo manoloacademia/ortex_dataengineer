{
 "cells": [
  {
   "cell_type": "code",
   "execution_count": 1,
   "metadata": {},
   "outputs": [],
   "source": [
    "import pandas as pd"
   ]
  },
  {
   "cell_type": "code",
   "execution_count": 3,
   "metadata": {},
   "outputs": [
    {
     "data": {
      "text/plain": [
       "Index(['transactionID', 'gvkey', 'companyName', 'companyISIN', 'companySEDOL',\n",
       "       'insiderID', 'insiderName', 'insiderRelation', 'insiderLevel',\n",
       "       'connectionType', 'connectedInsiderName', 'connectedInsiderPosition',\n",
       "       'transactionType', 'transactionLabel', 'iid', 'securityISIN',\n",
       "       'securitySEDOL', 'securityDisplay', 'assetClass', 'shares', 'inputdate',\n",
       "       'tradedate', 'maxTradedate', 'price', 'maxPrice', 'value', 'currency',\n",
       "       'valueEUR', 'unit', 'correctedTransactionID', 'source',\n",
       "       'tradeSignificance', 'holdings', 'filingURL', 'exchange'],\n",
       "      dtype='object')"
      ]
     },
     "execution_count": 3,
     "metadata": {},
     "output_type": "execute_result"
    }
   ],
   "source": [
    "df = pd.read_csv('2017.csv')\n",
    "df.columns"
   ]
  },
  {
   "cell_type": "markdown",
   "metadata": {},
   "source": [
    "## Task 1\n",
    "- Top 3 source with highest ratio of Buy/Sell transactions\n",
    "- num_shares(sum)/transaction(all)"
   ]
  },
  {
   "cell_type": "code",
   "execution_count": 11,
   "metadata": {},
   "outputs": [],
   "source": [
    "buy_count = df.loc[df['transactionType']=='Buy'].groupby('source').count()['transactionType']"
   ]
  },
  {
   "cell_type": "code",
   "execution_count": 13,
   "metadata": {},
   "outputs": [],
   "source": [
    "sell_count = df.loc[df['transactionType']=='Sell'].groupby('source').count()['transactionType']"
   ]
  },
  {
   "cell_type": "code",
   "execution_count": null,
   "metadata": {},
   "outputs": [],
   "source": []
  },
  {
   "cell_type": "code",
   "execution_count": 25,
   "metadata": {},
   "outputs": [],
   "source": [
    "transactions_count = df.groupby('source').count()['transactionType']"
   ]
  },
  {
   "cell_type": "code",
   "execution_count": 50,
   "metadata": {},
   "outputs": [
    {
     "data": {
      "text/plain": [
       "source\n",
       "ADH     1164556912\n",
       "ASX       10984193\n",
       "AUS         261932\n",
       "BEL       45090779\n",
       "BSE        9068155\n",
       "CAN      950761416\n",
       "CNB        1423932\n",
       "CSE       54214385\n",
       "DAN       96756127\n",
       "ESP      768726774\n",
       "FIN         110419\n",
       "FRA      335109911\n",
       "GRE      130644396\n",
       "HKE      638233312\n",
       "ISL      677607590\n",
       "ITA     1045353434\n",
       "JSE        2164437\n",
       "KAP     1688573280\n",
       "LJS        3219202\n",
       "LSE    19990472668\n",
       "LUX        4620237\n",
       "MAL        3299624\n",
       "MYX        8981400\n",
       "NET       72610521\n",
       "NOR     3298710622\n",
       "OMX       55294511\n",
       "PAP     2846627500\n",
       "PRA       69222089\n",
       "PRT      128976048\n",
       "ROM      890262074\n",
       "RSE       48785431\n",
       "RUS    18121087745\n",
       "SEC       11544925\n",
       "SWE     1318392841\n",
       "SWI       65952420\n",
       "TSE       10918798\n",
       "VSE        6253755\n",
       "X3N       49930310\n",
       "ZSE        1944921\n",
       "Name: shares, dtype: int64"
      ]
     },
     "execution_count": 50,
     "metadata": {},
     "output_type": "execute_result"
    }
   ],
   "source": [
    "shares_sum = df.groupby('source').sum()['shares']\n",
    "shares_sum"
   ]
  },
  {
   "cell_type": "code",
   "execution_count": 32,
   "metadata": {},
   "outputs": [
    {
     "data": {
      "text/plain": [
       "source\n",
       "ADH    1.959459\n",
       "ASX    6.000000\n",
       "AUS    3.000000\n",
       "BEL    0.359447\n",
       "BSE    0.633333\n",
       "Name: transactionType, dtype: float64"
      ]
     },
     "execution_count": 32,
     "metadata": {},
     "output_type": "execute_result"
    }
   ],
   "source": [
    "(buy_count / sell_count).head()"
   ]
  },
  {
   "cell_type": "code",
   "execution_count": 39,
   "metadata": {},
   "outputs": [],
   "source": [
    "buy_shares = df.loc[df['transactionType']=='Buy'].groupby('source').sum()['shares']"
   ]
  },
  {
   "cell_type": "code",
   "execution_count": 40,
   "metadata": {},
   "outputs": [],
   "source": [
    "sell_shares = df.loc[df['transactionType']=='Sell'].groupby('source').sum()['shares']"
   ]
  },
  {
   "cell_type": "code",
   "execution_count": 58,
   "metadata": {},
   "outputs": [
    {
     "data": {
      "text/plain": [
       "source\n",
       "AUS    173.621333\n",
       "JSE      9.470298\n",
       "CNB      7.612304\n",
       "Name: shares, dtype: float64"
      ]
     },
     "execution_count": 58,
     "metadata": {},
     "output_type": "execute_result"
    }
   ],
   "source": [
    "task_1 = (buy_shares / sell_shares).sort_values(ascending=False).head(3)\n",
    "task_1"
   ]
  },
  {
   "cell_type": "code",
   "execution_count": 55,
   "metadata": {},
   "outputs": [],
   "source": [
    "task_1 = df.loc[df['transactionType']=='Sell'].groupby('source').sum()['shares'].sort_values(ascending=False).head(3)"
   ]
  },
  {
   "cell_type": "markdown",
   "metadata": {},
   "source": [
    "## Task 2\n",
    "Total number of trades in currency, top 3 currency"
   ]
  },
  {
   "cell_type": "code",
   "execution_count": 56,
   "metadata": {},
   "outputs": [
    {
     "data": {
      "text/plain": [
       "Index(['transactionID', 'gvkey', 'companyName', 'companyISIN', 'companySEDOL',\n",
       "       'insiderID', 'insiderName', 'insiderRelation', 'insiderLevel',\n",
       "       'connectionType', 'connectedInsiderName', 'connectedInsiderPosition',\n",
       "       'transactionType', 'transactionLabel', 'iid', 'securityISIN',\n",
       "       'securitySEDOL', 'securityDisplay', 'assetClass', 'shares', 'inputdate',\n",
       "       'tradedate', 'maxTradedate', 'price', 'maxPrice', 'value', 'currency',\n",
       "       'valueEUR', 'unit', 'correctedTransactionID', 'source',\n",
       "       'tradeSignificance', 'holdings', 'filingURL', 'exchange'],\n",
       "      dtype='object')"
      ]
     },
     "execution_count": 56,
     "metadata": {},
     "output_type": "execute_result"
    }
   ],
   "source": [
    "df.columns"
   ]
  },
  {
   "cell_type": "code",
   "execution_count": 62,
   "metadata": {},
   "outputs": [
    {
     "data": {
      "text/plain": [
       "currency\n",
       "EUR    13962\n",
       "SEK     4676\n",
       "GBP     4128\n",
       "Name: transactionType, dtype: int64"
      ]
     },
     "execution_count": 62,
     "metadata": {},
     "output_type": "execute_result"
    }
   ],
   "source": [
    "task_2 = df.groupby('currency').count()['transactionType'].sort_values(ascending=False).head(3)\n",
    "task_2"
   ]
  },
  {
   "cell_type": "markdown",
   "metadata": {},
   "source": [
    "## Task 3\n",
    "Total number of transactions where inputdate was more than 2 weeks after tradedate"
   ]
  },
  {
   "cell_type": "code",
   "execution_count": 83,
   "metadata": {},
   "outputs": [],
   "source": [
    "import datetime\n",
    "import numpy as np"
   ]
  },
  {
   "cell_type": "code",
   "execution_count": 74,
   "metadata": {},
   "outputs": [],
   "source": [
    "input_date = pd.to_datetime(df['inputdate'].astype(str), format='%Y%m%d')"
   ]
  },
  {
   "cell_type": "code",
   "execution_count": 76,
   "metadata": {},
   "outputs": [],
   "source": [
    "trade_date = pd.to_datetime(df['tradedate'].astype(str), format='%Y%m%d')"
   ]
  },
  {
   "cell_type": "code",
   "execution_count": 78,
   "metadata": {},
   "outputs": [],
   "source": [
    "df['deltaday'] = input_date - trade_date"
   ]
  },
  {
   "cell_type": "code",
   "execution_count": 85,
   "metadata": {},
   "outputs": [],
   "source": [
    "df['deltaday'] = df['deltaday']/np.timedelta64(1, 'D')"
   ]
  },
  {
   "cell_type": "code",
   "execution_count": 91,
   "metadata": {},
   "outputs": [
    {
     "data": {
      "text/plain": [
       "2378"
      ]
     },
     "execution_count": 91,
     "metadata": {},
     "output_type": "execute_result"
    }
   ],
   "source": [
    "total_trans_after_2weeks = df.loc[df['deltaday']>14]['transactionType'].count()\n",
    "total_trans_after_2weeks"
   ]
  },
  {
   "cell_type": "code",
   "execution_count": null,
   "metadata": {},
   "outputs": [],
   "source": []
  }
 ],
 "metadata": {
  "kernelspec": {
   "display_name": "Python 3.10.4 ('ortex')",
   "language": "python",
   "name": "python3"
  },
  "language_info": {
   "codemirror_mode": {
    "name": "ipython",
    "version": 3
   },
   "file_extension": ".py",
   "mimetype": "text/x-python",
   "name": "python",
   "nbconvert_exporter": "python",
   "pygments_lexer": "ipython3",
   "version": "3.10.4"
  },
  "orig_nbformat": 4,
  "vscode": {
   "interpreter": {
    "hash": "5bfd1ba0cc94d4dabe85c83297199d27d3d5a0d353767a865f394aa12c53b7d5"
   }
  }
 },
 "nbformat": 4,
 "nbformat_minor": 2
}
